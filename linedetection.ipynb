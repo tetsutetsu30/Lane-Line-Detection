{
 "cells": [
  {
   "cell_type": "code",
   "execution_count": 1,
   "metadata": {},
   "outputs": [],
   "source": [
    "import matplotlib.pyplot as plt\n",
    "import numpy as np\n",
    "import cv2\n",
    "import os\n",
    "import matplotlib.image as mpimg\n",
    "import math"
   ]
  },
  {
   "cell_type": "code",
   "execution_count": 2,
   "metadata": {},
   "outputs": [],
   "source": [
    "def make_coordinates(image, line_parameters):\n",
    "    slope,intercept=line_parameters\n",
    "    y1=image.shape[0]\n",
    "    y2=int(y1*(3/5))\n",
    "    x1=int((y1-intercept)/slope)\n",
    "    x2=int((y2-intercept)/slope)\n",
    "    return np.array([x1,y1,x2,y2])"
   ]
  },
  {
   "cell_type": "code",
   "execution_count": 3,
   "metadata": {},
   "outputs": [],
   "source": [
    "def canny(image):\n",
    "    #converting grey from colored to increase speed as we need\n",
    "    #borders of the only\n",
    "    gray=cv2.cvtColor(image,cv2.COLOR_RGB2GRAY) \n",
    "    #to smooth the image\n",
    "    #done my taking weightage average of pixels around it\n",
    "    blur=cv2.GaussianBlur(gray,(5,5),0)\n",
    "    canny=cv2.Canny(blur,50,150)\n",
    "    return canny"
   ]
  },
  {
   "cell_type": "code",
   "execution_count": 4,
   "metadata": {},
   "outputs": [],
   "source": [
    "def display_lines(image,lines):\n",
    "    line_image=np.zeros_like(image)\n",
    "    if lines is not None:\n",
    "        for x1,y1,x2,y2 in lines:\n",
    "            cv2.line(line_image,(x1,y1),(x2,y2),(255,0,0),10)\n",
    "    return line_image"
   ]
  },
  {
   "cell_type": "code",
   "execution_count": 5,
   "metadata": {},
   "outputs": [],
   "source": [
    "def region_of_interest(image):\n",
    "    height = image.shape[0]\n",
    "    polygons=np.array([[(200,height),(1100,height),(550,250)]])\n",
    "    mask=np.zeros_like(image)\n",
    "    cv2.fillPoly(mask,polygons,255)\n",
    "    masked_image=cv2.bitwise_and(image,mask)\n",
    "    return masked_image"
   ]
  },
  {
   "cell_type": "code",
   "execution_count": 6,
   "metadata": {},
   "outputs": [],
   "source": [
    "def average_slope_intercept(image,lines):\n",
    "    left_fit=[]\n",
    "    right_fit=[]\n",
    "    for line in lines:\n",
    "        x1,y1,x2,y2=line.reshape(4)\n",
    "        parameters=np.polyfit((x1,x2),(y1,y2),1)\n",
    "        slope = parameters[0]\n",
    "        intercept=parameters[1]\n",
    "        if slope<0:\n",
    "            left_fit.append((slope,intercept))\n",
    "        else:\n",
    "            right_fit.append((slope,intercept))\n",
    "    left_fit_average = np.average(left_fit, axis=0)\n",
    "    right_fit_average = np.average(right_fit, axis=0)\n",
    "    left_line= make_coordinates(image, left_fit_average)\n",
    "    right_line= make_coordinates(image, right_fit_average)\n",
    "    return np.array([left_line,right_line])"
   ]
  },
  {
   "cell_type": "code",
   "execution_count": 7,
   "metadata": {},
   "outputs": [
    {
     "data": {
      "text/plain": [
       "-1"
      ]
     },
     "execution_count": 7,
     "metadata": {},
     "output_type": "execute_result"
    },
    {
     "ename": "",
     "evalue": "",
     "output_type": "error",
     "traceback": [
      "\u001b[1;31mThe Kernel crashed while executing code in the the current cell or a previous cell. Please review the code in the cell(s) to identify a possible cause of the failure. Click <a href='https://aka.ms/vscodeJupyterKernelCrash'>here</a> for more info. View Jupyter <a href='command:jupyter.viewOutput'>log</a> for further details."
     ]
    }
   ],
   "source": [
    "image=cv2.imread('test_image.jpg')\n",
    "lane_image=np.copy(image)\n",
    "canny = canny(lane_image)\n",
    "cropped_image=region_of_interest(canny)\n",
    "lines=cv2.HoughLinesP(cropped_image,2,np.pi/180,100,np.array([]),minLineLength=40,maxLineGap=5)\n",
    "averged_line=average_slope_intercept(lane_image,lines)\n",
    "line_image = display_lines(lane_image,averged_line)\n",
    "combo_image=cv2.addWeighted(lane_image, 0.8, line_image, 1, 1 ) \n",
    "cv2.imshow(\"result\",combo_image)\n",
    "cv2.waitKey(5)\n",
    "#cap=cv2.VideoCapture(\"test2.mp4\")\n",
    "#while(cap.isOpened()):\n",
    "#    _, frame = cap.read()\n",
    "#    canny_image = canny(frame)\n",
    "#    cropped_image=region_of_interest(canny_image)\n",
    "#    lines=cv2.HoughLinesP(cropped_image,2,np.pi/180,100,np.array([]),minLineLength=40,maxLineGap=5)\n",
    "#    averged_line=average_slope_intercept(frame,lines)\n",
    "#    line_image = display_lines(frame,averged_line)\n",
    "#    combo_image=cv2.addWeighted(frame, 0.8, line_image, 1, 1 ) \n",
    "#    cv2.imshow(\"result\",combo_image)\n",
    "#    if cv2.waitKey(1) == ord('q'):\n",
    "#        break\n",
    "#cap.release()\n",
    "#cv2.destroyAllWindows()"
   ]
  },
  {
   "cell_type": "code",
   "execution_count": null,
   "metadata": {},
   "outputs": [],
   "source": []
  }
 ],
 "metadata": {
  "kernelspec": {
   "display_name": "Python 3.10.4 64-bit",
   "language": "python",
   "name": "python3"
  },
  "language_info": {
   "codemirror_mode": {
    "name": "ipython",
    "version": 3
   },
   "file_extension": ".py",
   "mimetype": "text/x-python",
   "name": "python",
   "nbconvert_exporter": "python",
   "pygments_lexer": "ipython3",
   "version": "3.10.8"
  },
  "orig_nbformat": 4,
  "vscode": {
   "interpreter": {
    "hash": "26de051ba29f2982a8de78e945f0abaf191376122a1563185a90213a26c5da77"
   }
  }
 },
 "nbformat": 4,
 "nbformat_minor": 2
}
